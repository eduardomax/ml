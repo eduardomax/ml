{
 "cells": [
  {
   "cell_type": "code",
   "execution_count": 62,
   "metadata": {},
   "outputs": [],
   "source": [
    "import numpy as np\n",
    "import collections\n",
    "\n",
    "class Knn:\n",
    "    def __init__(self, k):\n",
    "        self.k = k\n",
    "    \n",
    "    def fit(self, X_train, y_train):\n",
    "        self.X_train = X_train\n",
    "        self.y_train = y_train\n",
    "    \n",
    "    def predict(self, sample):\n",
    "        kNeighbourhoodsDistance = self.generateDistances(sample)\n",
    "        kNeighbourhoodsDistance.sort(key=lambda x: x[0])\n",
    "        \n",
    "        kNeighbourhood = [knd[1] for knd in kNeighbourhoodsDistance[:self.k]] #get the k first closest\n",
    "        \n",
    "        return collections.Counter(kNeighbourhood).most_common(2)[0][0]\n",
    "    \n",
    "    def generateDistances(self, sample):\n",
    "        return [(self.distance(self.X_train[x_i], sample), self.y_train[x_i]) for x_i in range(len(self.X_train))]\n",
    "    \n",
    "    def distance(self, a, b):\n",
    "        return np.linalg.norm(a-b)"
   ]
  },
  {
   "cell_type": "code",
   "execution_count": 63,
   "metadata": {},
   "outputs": [
    {
     "name": "stdout",
     "output_type": "stream",
     "text": [
      "1\n"
     ]
    }
   ],
   "source": [
    "X_train = [[1, 1, 1],\n",
    "           [1, 1, 2],\n",
    "          [2, 2, 2],\n",
    "          [3, 3, 3]]\n",
    "\n",
    "y_train = [1, 1, 2, 3]\n",
    "\n",
    "X_sample = [1, 2 ,3]\n",
    "\n",
    "knn = Knn(k=2)\n",
    "knn.fit(X_train, y_train)\n",
    "\n",
    "y_predict = knn.predict(np.asarray(X_sample))\n",
    "\n",
    "print(y_predict)"
   ]
  }
 ],
 "metadata": {
  "kernelspec": {
   "display_name": "Python 3",
   "language": "python",
   "name": "python3"
  },
  "language_info": {
   "codemirror_mode": {
    "name": "ipython",
    "version": 3
   },
   "file_extension": ".py",
   "mimetype": "text/x-python",
   "name": "python",
   "nbconvert_exporter": "python",
   "pygments_lexer": "ipython3",
   "version": "3.7.1"
  }
 },
 "nbformat": 4,
 "nbformat_minor": 2
}
